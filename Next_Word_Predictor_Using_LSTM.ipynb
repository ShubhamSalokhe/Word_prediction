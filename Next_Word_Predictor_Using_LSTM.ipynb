{
  "nbformat": 4,
  "nbformat_minor": 0,
  "metadata": {
    "colab": {
      "provenance": []
    },
    "kernelspec": {
      "name": "python3",
      "display_name": "Python 3"
    },
    "language_info": {
      "name": "python"
    }
  },
  "cells": [
    {
      "cell_type": "markdown",
      "source": [
        "### Next Word Predictor Using LSTM"
      ],
      "metadata": {
        "id": "Ks8jFHJytP_Z"
      }
    },
    {
      "cell_type": "code",
      "source": [
        "!pip install PyPDF2"
      ],
      "metadata": {
        "colab": {
          "base_uri": "https://localhost:8080/"
        },
        "id": "_xFV70PejzG-",
        "outputId": "7011ee34-47ed-49fc-d5d9-262251d69514"
      },
      "execution_count": null,
      "outputs": [
        {
          "output_type": "stream",
          "name": "stdout",
          "text": [
            "Collecting PyPDF2\n",
            "  Downloading pypdf2-3.0.1-py3-none-any.whl (232 kB)\n",
            "\u001b[?25l     \u001b[90m━━━━━━━━━━━━━━━━━━━━━━━━━━━━━━━━━━━━━━━━\u001b[0m \u001b[32m0.0/232.6 kB\u001b[0m \u001b[31m?\u001b[0m eta \u001b[36m-:--:--\u001b[0m\r\u001b[2K     \u001b[91m━━━━━━━━━━━━━━━━━\u001b[0m\u001b[90m╺\u001b[0m\u001b[90m━━━━━━━━━━━━━━━━━━━━━\u001b[0m \u001b[32m102.4/232.6 kB\u001b[0m \u001b[31m2.8 MB/s\u001b[0m eta \u001b[36m0:00:01\u001b[0m\r\u001b[2K     \u001b[90m━━━━━━━━━━━━━━━━━━━━━━━━━━━━━━━━━━━━━━━\u001b[0m \u001b[32m232.6/232.6 kB\u001b[0m \u001b[31m4.3 MB/s\u001b[0m eta \u001b[36m0:00:00\u001b[0m\n",
            "\u001b[?25hInstalling collected packages: PyPDF2\n",
            "Successfully installed PyPDF2-3.0.1\n"
          ]
        }
      ]
    },
    {
      "cell_type": "code",
      "source": [
        "from PyPDF2 import PdfReader\n",
        "\n",
        "reader = PdfReader('/content/englishliterature.pdf')\n",
        "\n",
        "page = reader.pages[0]\n",
        "faqs = \"\"\n",
        "for page in reader.pages:\n",
        "  faqs +=  page.extract_text()"
      ],
      "metadata": {
        "colab": {
          "base_uri": "https://localhost:8080/"
        },
        "id": "XYGQ9DJ5kCjJ",
        "outputId": "46201751-faca-431e-a021-69c44795a268"
      },
      "execution_count": null,
      "outputs": [
        {
          "output_type": "stream",
          "name": "stdout",
          "text": [
            "13\n"
          ]
        }
      ]
    },
    {
      "cell_type": "code",
      "source": [
        "import tensorflow as tf\n",
        "from tensorflow.keras.preprocessing.text import Tokenizer"
      ],
      "metadata": {
        "id": "akMxF-0uSUbB"
      },
      "execution_count": null,
      "outputs": []
    },
    {
      "cell_type": "code",
      "source": [
        "tokenizer = Tokenizer()"
      ],
      "metadata": {
        "id": "LdcuAtNxSfDX"
      },
      "execution_count": null,
      "outputs": []
    },
    {
      "cell_type": "code",
      "source": [
        "tokenizer.fit_on_texts([faqs])"
      ],
      "metadata": {
        "id": "ZVF3Y9jUSkmH"
      },
      "execution_count": null,
      "outputs": []
    },
    {
      "cell_type": "code",
      "source": [
        "len(tokenizer.word_index)"
      ],
      "metadata": {
        "colab": {
          "base_uri": "https://localhost:8080/"
        },
        "id": "BnkCexOCSprf",
        "outputId": "b5a6b0e1-43f0-4165-f7ef-f5805ac188b1"
      },
      "execution_count": null,
      "outputs": [
        {
          "output_type": "execute_result",
          "data": {
            "text/plain": [
              "2751"
            ]
          },
          "metadata": {},
          "execution_count": 10
        }
      ]
    },
    {
      "cell_type": "code",
      "source": [
        "input_sequence = []\n",
        "for sentence in faqs.split(\"\\n\"):\n",
        "  tokenized_sentence = tokenizer.texts_to_sequences([sentence])[0]\n",
        "\n",
        "  for i in range(1, len(tokenized_sentence)):\n",
        "    input_sequence.append(tokenized_sentence[:i+1])"
      ],
      "metadata": {
        "id": "A73fIcgBSv5_"
      },
      "execution_count": null,
      "outputs": []
    },
    {
      "cell_type": "code",
      "source": [
        "max_len = max([len(x) for x in input_sequence])\n",
        "max_len"
      ],
      "metadata": {
        "colab": {
          "base_uri": "https://localhost:8080/"
        },
        "id": "VI9D568NTWGG",
        "outputId": "f88c2a2f-9782-4a75-de0e-4abcc60ef9d2"
      },
      "execution_count": null,
      "outputs": [
        {
          "output_type": "execute_result",
          "data": {
            "text/plain": [
              "31"
            ]
          },
          "metadata": {},
          "execution_count": 13
        }
      ]
    },
    {
      "cell_type": "code",
      "source": [
        "from tensorflow.keras.preprocessing.sequence import pad_sequences\n",
        "padded_input_sequences = pad_sequences(input_sequence, maxlen = max_len, padding=\"pre\")"
      ],
      "metadata": {
        "id": "_ChlSO6TTxtF"
      },
      "execution_count": null,
      "outputs": []
    },
    {
      "cell_type": "code",
      "source": [
        "padded_input_sequences"
      ],
      "metadata": {
        "colab": {
          "base_uri": "https://localhost:8080/"
        },
        "id": "_5krIbPhWQKp",
        "outputId": "830cb7ec-d37b-46e3-b977-409e1b42cb51"
      },
      "execution_count": null,
      "outputs": [
        {
          "output_type": "execute_result",
          "data": {
            "text/plain": [
              "array([[   0,    0,    0, ...,    0,    8,    9],\n",
              "       [   0,    0,    0, ...,    0,    8,    9],\n",
              "       [   0,    0,    0, ...,    0,   38,   81],\n",
              "       ...,\n",
              "       [   0,    0,    0, ...,  835,   12, 2751],\n",
              "       [   0,    0,    0, ...,   12, 2751,  133],\n",
              "       [   0,    0,    0, ..., 2751,  133,  837]], dtype=int32)"
            ]
          },
          "metadata": {},
          "execution_count": 15
        }
      ]
    },
    {
      "cell_type": "code",
      "source": [
        "X = padded_input_sequences[:,:-1]"
      ],
      "metadata": {
        "id": "DFWd5uKnWR8a"
      },
      "execution_count": null,
      "outputs": []
    },
    {
      "cell_type": "code",
      "source": [
        "y = padded_input_sequences[:,-1]"
      ],
      "metadata": {
        "id": "GaniGijVWUY7"
      },
      "execution_count": null,
      "outputs": []
    },
    {
      "cell_type": "code",
      "source": [
        "X.shape, y.shape"
      ],
      "metadata": {
        "colab": {
          "base_uri": "https://localhost:8080/"
        },
        "id": "BEaW6lSFWU4b",
        "outputId": "6c3c1db0-753b-455d-dcb9-b0d1c74a3a28"
      },
      "execution_count": null,
      "outputs": [
        {
          "output_type": "execute_result",
          "data": {
            "text/plain": [
              "((7592, 30), (7592,))"
            ]
          },
          "metadata": {},
          "execution_count": 18
        }
      ]
    },
    {
      "cell_type": "code",
      "source": [
        "from tensorflow.keras.utils import to_categorical\n",
        "y = to_categorical(y, num_classes=2752)"
      ],
      "metadata": {
        "id": "TH6rDN_oWW_b"
      },
      "execution_count": null,
      "outputs": []
    },
    {
      "cell_type": "code",
      "source": [
        "y.shape"
      ],
      "metadata": {
        "colab": {
          "base_uri": "https://localhost:8080/"
        },
        "id": "79BuyeVnXY3N",
        "outputId": "6bfef0ff-64df-430a-f349-523dc8da158b"
      },
      "execution_count": null,
      "outputs": [
        {
          "output_type": "execute_result",
          "data": {
            "text/plain": [
              "(7592, 2752)"
            ]
          },
          "metadata": {},
          "execution_count": 20
        }
      ]
    },
    {
      "cell_type": "code",
      "source": [
        "from tensorflow.keras.models import Sequential\n",
        "from tensorflow.keras.layers import Embedding, LSTM, Dense"
      ],
      "metadata": {
        "id": "vir2Hk7pYgOV"
      },
      "execution_count": null,
      "outputs": []
    },
    {
      "cell_type": "code",
      "source": [
        "model = Sequential()\n",
        "model.add(Embedding(2752, 100, input_length=30))\n",
        "model.add(LSTM(150))\n",
        "model.add(Dense(2752, activation= \"softmax\"))"
      ],
      "metadata": {
        "id": "FYmBD8ttYxNV"
      },
      "execution_count": null,
      "outputs": []
    },
    {
      "cell_type": "code",
      "source": [
        "model.compile(loss='categorical_crossentropy', optimizer='adam',metrics=['accuracy'])"
      ],
      "metadata": {
        "id": "UukifoMianlk"
      },
      "execution_count": null,
      "outputs": []
    },
    {
      "cell_type": "code",
      "source": [
        "model.summary()"
      ],
      "metadata": {
        "colab": {
          "base_uri": "https://localhost:8080/"
        },
        "id": "mW_yCnrUbGjT",
        "outputId": "ace2bc0b-6a1c-4c15-a58c-b8f6f6969b6e"
      },
      "execution_count": null,
      "outputs": [
        {
          "output_type": "stream",
          "name": "stdout",
          "text": [
            "Model: \"sequential_3\"\n",
            "_________________________________________________________________\n",
            " Layer (type)                Output Shape              Param #   \n",
            "=================================================================\n",
            " embedding_3 (Embedding)     (None, 30, 100)           275200    \n",
            "                                                                 \n",
            " lstm_4 (LSTM)               (None, 150)               150600    \n",
            "                                                                 \n",
            " dense_2 (Dense)             (None, 2752)              415552    \n",
            "                                                                 \n",
            "=================================================================\n",
            "Total params: 841352 (3.21 MB)\n",
            "Trainable params: 841352 (3.21 MB)\n",
            "Non-trainable params: 0 (0.00 Byte)\n",
            "_________________________________________________________________\n"
          ]
        }
      ]
    },
    {
      "cell_type": "code",
      "source": [
        "model.fit(X,y,epochs=100)"
      ],
      "metadata": {
        "colab": {
          "base_uri": "https://localhost:8080/"
        },
        "id": "pZro4E7YbH68",
        "outputId": "717d2056-77fd-4bc7-9acb-95f86728618f"
      },
      "execution_count": null,
      "outputs": [
        {
          "output_type": "stream",
          "name": "stdout",
          "text": [
            "Epoch 1/100\n",
            "238/238 [==============================] - 20s 73ms/step - loss: 6.9924 - accuracy: 0.0703\n",
            "Epoch 2/100\n",
            "238/238 [==============================] - 18s 76ms/step - loss: 6.4162 - accuracy: 0.0876\n",
            "Epoch 3/100\n",
            "238/238 [==============================] - 18s 75ms/step - loss: 6.1865 - accuracy: 0.0969\n",
            "Epoch 4/100\n",
            "238/238 [==============================] - 17s 73ms/step - loss: 5.9259 - accuracy: 0.1089\n",
            "Epoch 5/100\n",
            "238/238 [==============================] - 19s 78ms/step - loss: 5.6588 - accuracy: 0.1214\n",
            "Epoch 6/100\n",
            "238/238 [==============================] - 17s 73ms/step - loss: 5.3920 - accuracy: 0.1350\n",
            "Epoch 7/100\n",
            "238/238 [==============================] - 17s 72ms/step - loss: 5.1283 - accuracy: 0.1463\n",
            "Epoch 8/100\n",
            "238/238 [==============================] - 18s 77ms/step - loss: 4.8727 - accuracy: 0.1585\n",
            "Epoch 9/100\n",
            "238/238 [==============================] - 17s 73ms/step - loss: 4.6249 - accuracy: 0.1698\n",
            "Epoch 10/100\n",
            "238/238 [==============================] - 18s 77ms/step - loss: 4.3886 - accuracy: 0.1818\n",
            "Epoch 11/100\n",
            "238/238 [==============================] - 17s 73ms/step - loss: 4.1553 - accuracy: 0.2067\n",
            "Epoch 12/100\n",
            "238/238 [==============================] - 17s 72ms/step - loss: 3.9284 - accuracy: 0.2327\n",
            "Epoch 13/100\n",
            "238/238 [==============================] - 19s 78ms/step - loss: 3.7085 - accuracy: 0.2669\n",
            "Epoch 14/100\n",
            "238/238 [==============================] - 17s 73ms/step - loss: 3.4931 - accuracy: 0.3008\n",
            "Epoch 15/100\n",
            "238/238 [==============================] - 17s 72ms/step - loss: 3.2797 - accuracy: 0.3479\n",
            "Epoch 16/100\n",
            "238/238 [==============================] - 19s 78ms/step - loss: 3.0753 - accuracy: 0.3879\n",
            "Epoch 17/100\n",
            "238/238 [==============================] - 17s 72ms/step - loss: 2.8723 - accuracy: 0.4361\n",
            "Epoch 18/100\n",
            "238/238 [==============================] - 18s 75ms/step - loss: 2.6782 - accuracy: 0.4775\n",
            "Epoch 19/100\n",
            "238/238 [==============================] - 17s 73ms/step - loss: 2.4885 - accuracy: 0.5184\n",
            "Epoch 20/100\n",
            "238/238 [==============================] - 17s 73ms/step - loss: 2.3109 - accuracy: 0.5597\n",
            "Epoch 21/100\n",
            "238/238 [==============================] - 19s 78ms/step - loss: 2.1401 - accuracy: 0.5919\n",
            "Epoch 22/100\n",
            "238/238 [==============================] - 17s 72ms/step - loss: 1.9795 - accuracy: 0.6278\n",
            "Epoch 23/100\n",
            "238/238 [==============================] - 17s 73ms/step - loss: 1.8309 - accuracy: 0.6589\n",
            "Epoch 24/100\n",
            "238/238 [==============================] - 18s 77ms/step - loss: 1.6920 - accuracy: 0.6940\n",
            "Epoch 25/100\n",
            "238/238 [==============================] - 17s 72ms/step - loss: 1.5622 - accuracy: 0.7152\n",
            "Epoch 26/100\n",
            "238/238 [==============================] - 18s 74ms/step - loss: 1.4392 - accuracy: 0.7401\n",
            "Epoch 27/100\n",
            "238/238 [==============================] - 18s 76ms/step - loss: 1.3276 - accuracy: 0.7641\n",
            "Epoch 28/100\n",
            "238/238 [==============================] - 17s 74ms/step - loss: 1.2224 - accuracy: 0.7849\n",
            "Epoch 29/100\n",
            "238/238 [==============================] - 18s 78ms/step - loss: 1.1249 - accuracy: 0.8091\n",
            "Epoch 30/100\n",
            "238/238 [==============================] - 17s 72ms/step - loss: 1.0375 - accuracy: 0.8244\n",
            "Epoch 31/100\n",
            "238/238 [==============================] - 17s 72ms/step - loss: 0.9537 - accuracy: 0.8429\n",
            "Epoch 32/100\n",
            "238/238 [==============================] - 18s 77ms/step - loss: 0.8739 - accuracy: 0.8545\n",
            "Epoch 33/100\n",
            "238/238 [==============================] - 17s 73ms/step - loss: 0.8054 - accuracy: 0.8707\n",
            "Epoch 34/100\n",
            "238/238 [==============================] - 17s 73ms/step - loss: 0.7390 - accuracy: 0.8816\n",
            "Epoch 35/100\n",
            "238/238 [==============================] - 18s 77ms/step - loss: 0.6774 - accuracy: 0.8949\n",
            "Epoch 36/100\n",
            "238/238 [==============================] - 17s 72ms/step - loss: 0.6204 - accuracy: 0.9071\n",
            "Epoch 37/100\n",
            "238/238 [==============================] - 18s 77ms/step - loss: 0.5680 - accuracy: 0.9152\n",
            "Epoch 38/100\n",
            "238/238 [==============================] - 17s 73ms/step - loss: 0.5204 - accuracy: 0.9239\n",
            "Epoch 39/100\n",
            "238/238 [==============================] - 17s 73ms/step - loss: 0.4766 - accuracy: 0.9301\n",
            "Epoch 40/100\n",
            "238/238 [==============================] - 19s 78ms/step - loss: 0.4355 - accuracy: 0.9384\n",
            "Epoch 41/100\n",
            "238/238 [==============================] - 17s 72ms/step - loss: 0.3981 - accuracy: 0.9438\n",
            "Epoch 42/100\n",
            "238/238 [==============================] - 19s 82ms/step - loss: 0.3644 - accuracy: 0.9510\n",
            "Epoch 43/100\n",
            "238/238 [==============================] - 18s 75ms/step - loss: 0.3330 - accuracy: 0.9540\n",
            "Epoch 44/100\n",
            "238/238 [==============================] - 18s 74ms/step - loss: 0.3049 - accuracy: 0.9575\n",
            "Epoch 45/100\n",
            "238/238 [==============================] - 19s 78ms/step - loss: 0.2802 - accuracy: 0.9606\n",
            "Epoch 46/100\n",
            "238/238 [==============================] - 17s 73ms/step - loss: 0.2580 - accuracy: 0.9630\n",
            "Epoch 47/100\n",
            "238/238 [==============================] - 17s 73ms/step - loss: 0.2395 - accuracy: 0.9652\n",
            "Epoch 48/100\n",
            "238/238 [==============================] - 18s 77ms/step - loss: 0.2184 - accuracy: 0.9702\n",
            "Epoch 49/100\n",
            "238/238 [==============================] - 17s 73ms/step - loss: 0.1997 - accuracy: 0.9723\n",
            "Epoch 50/100\n",
            "238/238 [==============================] - 18s 78ms/step - loss: 0.1851 - accuracy: 0.9731\n",
            "Epoch 51/100\n",
            "238/238 [==============================] - 17s 72ms/step - loss: 0.1728 - accuracy: 0.9741\n",
            "Epoch 52/100\n",
            "238/238 [==============================] - 17s 73ms/step - loss: 0.1621 - accuracy: 0.9742\n",
            "Epoch 53/100\n",
            "238/238 [==============================] - 19s 78ms/step - loss: 0.1499 - accuracy: 0.9752\n",
            "Epoch 54/100\n",
            "238/238 [==============================] - 17s 73ms/step - loss: 0.1394 - accuracy: 0.9747\n",
            "Epoch 55/100\n",
            "238/238 [==============================] - 18s 75ms/step - loss: 0.1319 - accuracy: 0.9754\n",
            "Epoch 56/100\n",
            "238/238 [==============================] - 18s 77ms/step - loss: 0.1234 - accuracy: 0.9763\n",
            "Epoch 57/100\n",
            "238/238 [==============================] - 17s 73ms/step - loss: 0.1159 - accuracy: 0.9780\n",
            "Epoch 58/100\n",
            "238/238 [==============================] - 18s 77ms/step - loss: 0.1116 - accuracy: 0.9769\n",
            "Epoch 59/100\n",
            "238/238 [==============================] - 17s 72ms/step - loss: 0.1051 - accuracy: 0.9777\n",
            "Epoch 60/100\n",
            "238/238 [==============================] - 17s 72ms/step - loss: 0.1012 - accuracy: 0.9776\n",
            "Epoch 61/100\n",
            "238/238 [==============================] - 19s 78ms/step - loss: 0.0969 - accuracy: 0.9769\n",
            "Epoch 62/100\n",
            "238/238 [==============================] - 17s 72ms/step - loss: 0.0928 - accuracy: 0.9779\n",
            "Epoch 63/100\n",
            "238/238 [==============================] - 18s 74ms/step - loss: 0.0900 - accuracy: 0.9785\n",
            "Epoch 64/100\n",
            "238/238 [==============================] - 18s 76ms/step - loss: 0.0865 - accuracy: 0.9783\n",
            "Epoch 65/100\n",
            "238/238 [==============================] - 17s 73ms/step - loss: 0.0824 - accuracy: 0.9781\n",
            "Epoch 66/100\n",
            "238/238 [==============================] - 19s 78ms/step - loss: 0.0790 - accuracy: 0.9779\n",
            "Epoch 67/100\n",
            "238/238 [==============================] - 17s 73ms/step - loss: 0.0809 - accuracy: 0.9773\n",
            "Epoch 68/100\n",
            "238/238 [==============================] - 17s 72ms/step - loss: 0.0773 - accuracy: 0.9788\n",
            "Epoch 69/100\n",
            "238/238 [==============================] - 19s 78ms/step - loss: 0.0748 - accuracy: 0.9785\n",
            "Epoch 70/100\n",
            "238/238 [==============================] - 17s 72ms/step - loss: 0.0716 - accuracy: 0.9788\n",
            "Epoch 71/100\n",
            "238/238 [==============================] - 18s 74ms/step - loss: 0.0700 - accuracy: 0.9784\n",
            "Epoch 72/100\n",
            "238/238 [==============================] - 18s 75ms/step - loss: 0.0685 - accuracy: 0.9771\n",
            "Epoch 73/100\n",
            "238/238 [==============================] - 17s 73ms/step - loss: 0.0674 - accuracy: 0.9777\n",
            "Epoch 74/100\n",
            "238/238 [==============================] - 19s 79ms/step - loss: 0.0662 - accuracy: 0.9777\n",
            "Epoch 75/100\n",
            "238/238 [==============================] - 17s 73ms/step - loss: 0.0659 - accuracy: 0.9781\n",
            "Epoch 76/100\n",
            "238/238 [==============================] - 17s 73ms/step - loss: 0.0649 - accuracy: 0.9773\n",
            "Epoch 77/100\n",
            "238/238 [==============================] - 19s 79ms/step - loss: 0.0637 - accuracy: 0.9788\n",
            "Epoch 78/100\n",
            "238/238 [==============================] - 17s 73ms/step - loss: 0.0629 - accuracy: 0.9783\n",
            "Epoch 79/100\n",
            "238/238 [==============================] - 18s 77ms/step - loss: 0.0617 - accuracy: 0.9779\n",
            "Epoch 80/100\n",
            "238/238 [==============================] - 18s 73ms/step - loss: 0.0618 - accuracy: 0.9783\n",
            "Epoch 81/100\n",
            "238/238 [==============================] - 17s 73ms/step - loss: 0.1521 - accuracy: 0.9582\n",
            "Epoch 82/100\n",
            "238/238 [==============================] - 19s 78ms/step - loss: 0.0799 - accuracy: 0.9759\n",
            "Epoch 83/100\n",
            "238/238 [==============================] - 17s 72ms/step - loss: 0.0618 - accuracy: 0.9796\n",
            "Epoch 84/100\n",
            "238/238 [==============================] - 17s 73ms/step - loss: 0.0609 - accuracy: 0.9779\n",
            "Epoch 85/100\n",
            "238/238 [==============================] - 19s 78ms/step - loss: 0.0598 - accuracy: 0.9779\n",
            "Epoch 86/100\n",
            "238/238 [==============================] - 17s 72ms/step - loss: 0.0582 - accuracy: 0.9785\n",
            "Epoch 87/100\n",
            "238/238 [==============================] - 18s 75ms/step - loss: 0.0582 - accuracy: 0.9779\n",
            "Epoch 88/100\n",
            "238/238 [==============================] - 18s 75ms/step - loss: 0.0579 - accuracy: 0.9785\n",
            "Epoch 89/100\n",
            "238/238 [==============================] - 17s 73ms/step - loss: 0.0582 - accuracy: 0.9789\n",
            "Epoch 90/100\n",
            "238/238 [==============================] - 19s 78ms/step - loss: 0.0573 - accuracy: 0.9792\n",
            "Epoch 91/100\n",
            "238/238 [==============================] - 17s 73ms/step - loss: 0.0575 - accuracy: 0.9775\n",
            "Epoch 92/100\n",
            "238/238 [==============================] - 18s 74ms/step - loss: 0.0571 - accuracy: 0.9784\n",
            "Epoch 93/100\n",
            "238/238 [==============================] - 18s 77ms/step - loss: 0.0571 - accuracy: 0.9773\n",
            "Epoch 94/100\n",
            "238/238 [==============================] - 17s 73ms/step - loss: 0.0571 - accuracy: 0.9773\n",
            "Epoch 95/100\n",
            "238/238 [==============================] - 19s 78ms/step - loss: 0.0564 - accuracy: 0.9781\n",
            "Epoch 96/100\n",
            "238/238 [==============================] - 17s 73ms/step - loss: 0.0566 - accuracy: 0.9781\n",
            "Epoch 97/100\n",
            "238/238 [==============================] - 17s 73ms/step - loss: 0.0557 - accuracy: 0.9780\n",
            "Epoch 98/100\n",
            "238/238 [==============================] - 18s 77ms/step - loss: 0.0568 - accuracy: 0.9784\n",
            "Epoch 99/100\n",
            "238/238 [==============================] - 17s 73ms/step - loss: 0.0583 - accuracy: 0.9775\n",
            "Epoch 100/100\n",
            "238/238 [==============================] - 17s 70ms/step - loss: 0.0560 - accuracy: 0.9780\n"
          ]
        },
        {
          "output_type": "execute_result",
          "data": {
            "text/plain": [
              "<keras.src.callbacks.History at 0x7965cc1fd7e0>"
            ]
          },
          "metadata": {},
          "execution_count": 31
        }
      ]
    },
    {
      "cell_type": "code",
      "source": [
        "import time\n",
        "import numpy as np\n",
        "text = \"An employee’s services may be terminated\"\n",
        "\n",
        "for i in range(10):\n",
        "  # tokenize\n",
        "  token_text = tokenizer.texts_to_sequences([text])[0]\n",
        "  # padding\n",
        "  padded_token_text = pad_sequences([token_text], maxlen=30, padding='pre')\n",
        "  # predict\n",
        "  pos = np.argmax(model.predict(padded_token_text))\n",
        "\n",
        "  for word,index in tokenizer.word_index.items():\n",
        "    if index == pos:\n",
        "      text = text + \" \" + word\n",
        "      print(text)\n",
        "      time.sleep(2)"
      ],
      "metadata": {
        "colab": {
          "base_uri": "https://localhost:8080/"
        },
        "id": "2AlE9r-LbOhO",
        "outputId": "0559a71a-71d2-430e-fa4d-ca7a5aa94bb1"
      },
      "execution_count": null,
      "outputs": [
        {
          "output_type": "stream",
          "name": "stdout",
          "text": [
            "1/1 [==============================] - 0s 440ms/step\n",
            "An employee’s services may be terminated works\n",
            "1/1 [==============================] - 0s 23ms/step\n",
            "An employee’s services may be terminated works of\n",
            "1/1 [==============================] - 0s 33ms/step\n",
            "An employee’s services may be terminated works of the\n",
            "1/1 [==============================] - 0s 24ms/step\n",
            "An employee’s services may be terminated works of the 20th\n",
            "1/1 [==============================] - 0s 26ms/step\n",
            "An employee’s services may be terminated works of the 20th century\n",
            "1/1 [==============================] - 0s 23ms/step\n",
            "An employee’s services may be terminated works of the 20th century saw\n",
            "1/1 [==============================] - 0s 26ms/step\n",
            "An employee’s services may be terminated works of the 20th century saw several\n",
            "1/1 [==============================] - 0s 25ms/step\n",
            "An employee’s services may be terminated works of the 20th century saw several major\n",
            "1/1 [==============================] - 0s 45ms/step\n",
            "An employee’s services may be terminated works of the 20th century saw several major works\n",
            "1/1 [==============================] - 0s 31ms/step\n",
            "An employee’s services may be terminated works of the 20th century saw several major works of\n",
            "1/1 [==============================] - 0s 23ms/step\n",
            "An employee’s services may be terminated works of the 20th century saw several major works of modernism\n",
            "1/1 [==============================] - 0s 24ms/step\n",
            "An employee’s services may be terminated works of the 20th century saw several major works of modernism published\n",
            "1/1 [==============================] - 0s 25ms/step\n",
            "An employee’s services may be terminated works of the 20th century saw several major works of modernism published including\n",
            "1/1 [==============================] - 0s 25ms/step\n",
            "An employee’s services may be terminated works of the 20th century saw several major works of modernism published including the\n",
            "1/1 [==============================] - 0s 25ms/step\n",
            "An employee’s services may be terminated works of the 20th century saw several major works of modernism published including the seminal\n",
            "1/1 [==============================] - 0s 31ms/step\n",
            "An employee’s services may be terminated works of the 20th century saw several major works of modernism published including the seminal short\n",
            "1/1 [==============================] - 0s 28ms/step\n",
            "An employee’s services may be terminated works of the 20th century saw several major works of modernism published including the seminal short story\n",
            "1/1 [==============================] - 0s 25ms/step\n",
            "An employee’s services may be terminated works of the 20th century saw several major works of modernism published including the seminal short story in\n",
            "1/1 [==============================] - 0s 27ms/step\n",
            "An employee’s services may be terminated works of the 20th century saw several major works of modernism published including the seminal short story in journalists\n",
            "1/1 [==============================] - 0s 37ms/step\n",
            "An employee’s services may be terminated works of the 20th century saw several major works of modernism published including the seminal short story in journalists and\n",
            "1/1 [==============================] - 0s 31ms/step\n",
            "An employee’s services may be terminated works of the 20th century saw several major works of modernism published including the seminal short story in journalists and a\n",
            "1/1 [==============================] - 0s 33ms/step\n",
            "An employee’s services may be terminated works of the 20th century saw several major works of modernism published including the seminal short story in journalists and a valediction\n",
            "1/1 [==============================] - 0s 30ms/step\n",
            "An employee’s services may be terminated works of the 20th century saw several major works of modernism published including the seminal short story in journalists and a valediction forbidding\n",
            "1/1 [==============================] - 0s 32ms/step\n",
            "An employee’s services may be terminated works of the 20th century saw several major works of modernism published including the seminal short story in journalists and a valediction forbidding mourning\n",
            "1/1 [==============================] - 0s 31ms/step\n",
            "An employee’s services may be terminated works of the 20th century saw several major works of modernism published including the seminal short story in journalists and a valediction forbidding mourning one\n",
            "1/1 [==============================] - 0s 54ms/step\n",
            "An employee’s services may be terminated works of the 20th century saw several major works of modernism published including the seminal short story in journalists and a valediction forbidding mourning one of\n",
            "1/1 [==============================] - 0s 26ms/step\n",
            "An employee’s services may be terminated works of the 20th century saw several major works of modernism published including the seminal short story in journalists and a valediction forbidding mourning one of the\n",
            "1/1 [==============================] - 0s 28ms/step\n",
            "An employee’s services may be terminated works of the 20th century saw several major works of modernism published including the seminal short story in journalists and a valediction forbidding mourning one of the drama\n",
            "1/1 [==============================] - 0s 28ms/step\n",
            "An employee’s services may be terminated works of the 20th century saw several major works of modernism published including the seminal short story in journalists and a valediction forbidding mourning one of the drama of\n",
            "1/1 [==============================] - 0s 27ms/step\n",
            "An employee’s services may be terminated works of the 20th century saw several major works of modernism published including the seminal short story in journalists and a valediction forbidding mourning one of the drama of the\n"
          ]
        }
      ]
    },
    {
      "cell_type": "code",
      "source": [],
      "metadata": {
        "id": "2xk4l82Fgq5o"
      },
      "execution_count": null,
      "outputs": []
    },
    {
      "cell_type": "code",
      "source": [],
      "metadata": {
        "id": "fVKSq-EedcSb"
      },
      "execution_count": null,
      "outputs": []
    }
  ]
}